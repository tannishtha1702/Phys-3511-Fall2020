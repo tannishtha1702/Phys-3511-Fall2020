{
 "cells": [
  {
   "cell_type": "markdown",
   "metadata": {},
   "source": [
    "# Assignment 2a Due\n",
    "\n",
    "In this assigment you will explore and become familiar with writing and using algorithms to numerically approxomate definite integrals.\n",
    "\n",
    "Assignment Overview:\n",
    "* Impliment your own midpoint, trapazoid, and Simpson's rule integration algorithms\n",
    "* Use those to solve a definite integral\n",
    "* Compare your algorithms to those from scipy\n",
    "* Compare all approximate solutions to the exact solutions\n"
   ]
  },
  {
   "cell_type": "markdown",
   "metadata": {},
   "source": [
    "You can import only the following packages: numpy, math, scipy, matplotlib.pyplot"
   ]
  },
  {
   "cell_type": "code",
   "execution_count": 188,
   "metadata": {},
   "outputs": [],
   "source": [
    "#your import cell\n",
    "import numpy as np\n",
    "import matplotlib.pyplot as mp\n",
    "import math \n",
    "import scipy\n",
    "from scipy import integrate"
   ]
  },
  {
   "cell_type": "markdown",
   "metadata": {},
   "source": [
    "Now we can define our integration algorithms"
   ]
  },
  {
   "cell_type": "code",
   "execution_count": 189,
   "metadata": {},
   "outputs": [],
   "source": [
    "#define midpoint rule\n",
    "def midpoint(f,x0,xn,n):\n",
    "    dx = (xn-x0)/float(n)\n",
    "    aream = dx*math.fsum(f(x0 + (i+0.5)*dx) for i in range (0,n))\n",
    "    return aream"
   ]
  },
  {
   "cell_type": "code",
   "execution_count": 190,
   "metadata": {},
   "outputs": [],
   "source": [
    "#define trapazoidal rule\n",
    "def trap(f,x0,xn,n):\n",
    "    dx = (xn-x0)/float(n)\n",
    "    #area = 0.5*dx*math.fsum(2*f(x0 + i*dx) for i in range (1,n))\n",
    "    #area += 0.5*dx*(f(x0) + f(xn))\n",
    "    areat = dx*math.fsum(0.5*(f(x0 +i*dx) + f(x0 + (i+1)*dx)) for i in range (0,n))\n",
    "    return areat"
   ]
  },
  {
   "cell_type": "code",
   "execution_count": 191,
   "metadata": {},
   "outputs": [],
   "source": [
    "#define simpson's rule\n",
    "def simp(f,x0,xn,n):\n",
    "    dx = (xn-x0)/float(n)\n",
    "    s_odd = 0\n",
    "    s_even = 0\n",
    "    for i in range (1,n,2):\n",
    "        s_odd += 4*f(x0 + i*dx) \n",
    "    for j in range (2,n-1,2):\n",
    "        s_even += 2*f(x0 + j*dx) \n",
    "    areas = (dx/3.0)*(f(x0) + s_even + s_odd + f(xn))\n",
    "    return areas"
   ]
  },
  {
   "cell_type": "markdown",
   "metadata": {},
   "source": [
    "# Question \n",
    "Sanity checking your code is very important. How can you check that your functions are working properly?"
   ]
  },
  {
   "cell_type": "markdown",
   "metadata": {},
   "source": [
    "By calling the function"
   ]
  },
  {
   "cell_type": "markdown",
   "metadata": {},
   "source": [
    "For this notebook assigment we would like to solve the integral\\\n",
    "$\\int_{a}^{b} \\frac{2}{(2^2 + x^2)^{3/2}}dx$\n"
   ]
  },
  {
   "cell_type": "markdown",
   "metadata": {},
   "source": [
    "# Question\n",
    "Have you seen an integral like this before in physics? From where?"
   ]
  },
  {
   "cell_type": "raw",
   "metadata": {},
   "source": [
    "Gravitational potential energy"
   ]
  },
  {
   "cell_type": "markdown",
   "metadata": {},
   "source": [
    "Solve the above integral using the numerical integrations that you wrote. When defining the function we will integrate over do so using python's **lambda** function.\n",
    "\n",
    "For the integration take $a = 0,\\; b = 2,\\;$ and we will split it up into 6 partitions."
   ]
  },
  {
   "cell_type": "markdown",
   "metadata": {},
   "source": [
    "# Question\n",
    "What is the exact solution?"
   ]
  },
  {
   "cell_type": "code",
   "execution_count": 192,
   "metadata": {},
   "outputs": [
    {
     "name": "stdout",
     "output_type": "stream",
     "text": [
      "0.35355339059327373\n"
     ]
    }
   ],
   "source": [
    "#exact solution to the integral\n",
    "exact = 1/(2*((2)**0.5))\n",
    "print (exact)"
   ]
  },
  {
   "cell_type": "code",
   "execution_count": 193,
   "metadata": {},
   "outputs": [],
   "source": [
    "#solve the integral using your integration functions\n",
    "xn = 2\n",
    "x0 = 0\n",
    "n = 6\n",
    "dx = (xn-x0)/n\n",
    "f = lambda x: 2*(1/((4+(x**2))**(3/2)))\n",
    "                 \n",
    "def midpoint(f,x0,xn,n):\n",
    "    dx = (xn-x0)/float(n)\n",
    "    aream = dx*math.fsum(f(x0 + (i+0.5)*dx) for i in range (0,n))\n",
    "    print (\"Midpoint\",aream)\n",
    "    return aream\n",
    "\n",
    "def trap(f,x0,xn,n):\n",
    "    dx = (xn-x0)/float(n)\n",
    "    areat = dx*math.fsum(0.5*(f(x0 +i*dx) + f(x0 + (i+1)*dx)) for i in range (0,n))\n",
    "    print (\"Trapazoid\",areat)\n",
    "    return areat\n",
    "\n",
    "def simp(f,x0,xn,n):\n",
    "    dx = (xn-x0)/float(n)\n",
    "    s_odd = 0\n",
    "    s_even = 0\n",
    "    for i in range (1,n,2):\n",
    "        s_odd += 4*f(x0 + i*dx) \n",
    "    for j in range (2,n-1,2):\n",
    "        s_even += 2*f(x0 + j*dx) \n",
    "    areas = (dx/3.0)*(f(x0) + s_even + s_odd + f(xn))\n",
    "    print(\"Simpson\",areas)\n",
    "    return areas\n"
   ]
  },
  {
   "cell_type": "markdown",
   "metadata": {},
   "source": [
    "Use the trapz and simps methods from scipy's integration library to solve the integral.\n",
    "\n",
    "Note: Shit+tab at the end of a function in jupyter notebook reveals lots of information about the function."
   ]
  },
  {
   "cell_type": "code",
   "execution_count": 194,
   "metadata": {},
   "outputs": [
    {
     "name": "stdout",
     "output_type": "stream",
     "text": [
      "[0.  0.4 0.8 1.2 1.6 2. ]\n",
      "0.3532157038993122\n",
      "0.3526702692186624\n",
      "Scipy Simps 0.3532157038993122\n",
      "Scipy Trapz 0.3526702692186624\n",
      "Midpoint 0.3538599754585315\n",
      "Trapazoid 0.35293994641413146\n",
      "Simpson 0.3535517906244493\n"
     ]
    }
   ],
   "source": [
    "#scipy integration\n",
    "from scipy import integrate\n",
    "import math\n",
    "\n",
    "x = np.linspace(0,2,6)\n",
    "print(x)\n",
    "y = 2*(1/((4+(x**2))**(3/2)))\n",
    "Is = scipy.integrate.simps (y,x,dx)\n",
    "print (Is)\n",
    "It = np.trapz (y,x,dx)\n",
    "print (It)\n",
    "print (\"Scipy Simps\",Is)\n",
    "print (\"Scipy Trapz\",It)\n",
    "\n",
    "mid= midpoint (f,x0,xn,n)\n",
    "trap= trap (f,x0,xn,n)\n",
    "simp = simp(f,x0,xn,n)"
   ]
  },
  {
   "cell_type": "markdown",
   "metadata": {},
   "source": [
    "# Question\n",
    "How do scipy integrals compare to yours? Support your answer. "
   ]
  },
  {
   "cell_type": "markdown",
   "metadata": {},
   "source": [
    "Easier to use, more efficient"
   ]
  },
  {
   "cell_type": "code",
   "execution_count": 195,
   "metadata": {},
   "outputs": [
    {
     "name": "stdout",
     "output_type": "stream",
     "text": [
      "Scipy Simps 0.3532157038993122\n",
      "Scipy Trapz 0.3526702692186624\n",
      "Function Midpoint 0.3538599754585315\n",
      "Function Trapazoid 0.35293994641413146\n",
      "Function Simpsons 0.3535517906244493\n"
     ]
    }
   ],
   "source": [
    "#print the numerical values\n",
    "print (\"Scipy Simps\",Is)\n",
    "print (\"Scipy Trapz\",It)\n",
    "print (\"Function Midpoint\", mid )\n",
    "print (\"Function Trapazoid\", trap)\n",
    "print (\"Function Simpsons\", simp)"
   ]
  },
  {
   "cell_type": "markdown",
   "metadata": {},
   "source": [
    "Numerically compare your midpoint, trapazoid, and Simpson method results to the exact value by calculating the quantity (approx - exact) / exact for each method. "
   ]
  },
  {
   "cell_type": "code",
   "execution_count": 196,
   "metadata": {},
   "outputs": [
    {
     "name": "stdout",
     "output_type": "stream",
     "text": [
      "m 0.0008671529489316845\n",
      "t -0.001735082155803672\n",
      "s -4.525395221761466e-06\n"
     ]
    }
   ],
   "source": [
    "#numerical comparisons\n",
    "m = (mid - exact)/exact\n",
    "print (\"m\", m)\n",
    "t= (trap - exact)/exact\n",
    "print (\"t\", t)\n",
    "s= (simp - exact)/exact\n",
    "print (\"s\", s)\n"
   ]
  },
  {
   "cell_type": "markdown",
   "metadata": {},
   "source": [
    "# Question\n",
    "Which method provides the best approximation to the exact solution?"
   ]
  },
  {
   "cell_type": "markdown",
   "metadata": {},
   "source": [
    "Simpson's Method gives the most accurate answer"
   ]
  },
  {
   "cell_type": "markdown",
   "metadata": {},
   "source": [
    "It is often useful to represent the data graphically. Make a scatter plot showing the percent difference $100 \\times \\frac{approx. - exact}{exact}$ vs. integration method. Integration method on your x-axis should be strings such as *midpoint, trapazoid, and Simpson*. You should also draw on your plot a line at *y = 0*, which will help guide the eye where the perfect approximation (the exact solution) would sit. "
   ]
  },
  {
   "cell_type": "code",
   "execution_count": 197,
   "metadata": {},
   "outputs": [
    {
     "name": "stdout",
     "output_type": "stream",
     "text": [
      "0.08671529489316845\n",
      "-0.1735082155803672\n",
      "-0.00045253952217614657\n"
     ]
    },
    {
     "data": {
      "image/png": "[encoded data removed]",
      "text/plain": [
       "<Figure size 432x288 with 1 Axes>"
      ]
     },
     "metadata": {
      "needs_background": "light"
     },
     "output_type": "display_data"
    }
   ],
   "source": [
    "#plot\n",
    "\n",
    "m = m*100\n",
    "t = t*100\n",
    "s = s*100\n",
    "print (m)\n",
    "print (t)\n",
    "print (s)\n",
    "\n",
    "x = [str(\"Midpoint\"), str(\"Trapazoid\"), str (\"Simpson\")]\n",
    "y = [m,t,s]\n",
    "\n",
    "mp.figure()\n",
    "mp.scatter (x,y)\n",
    "mp.axhline (y=0, color = 'g')\n",
    "mp.title(\"Error Percentage\")\n",
    "mp.ylabel(\"Error Values\")\n",
    "mp.xlabel(\"Method of Integration\")\n",
    "mp.show()\n"
   ]
  },
  {
   "cell_type": "markdown",
   "metadata": {},
   "source": [
    "Using the scipy *quad* integration method, approximate the following integral\n",
    "\n",
    "$$\\int_{-\\infty}^{\\infty} e^{-x^{2}} dx$$\n",
    "\n",
    "Hint: Reference <a href=\"https://numpy.org/\">numpy</a> and see what it has to offer in terms of functions and *special* values"
   ]
  },
  {
   "cell_type": "code",
   "execution_count": 198,
   "metadata": {},
   "outputs": [
    {
     "name": "stdout",
     "output_type": "stream",
     "text": [
      "(1.7724538509055159, 1.4202636780944923e-08)\n",
      "Squared Value 3.1415926535897927\n"
     ]
    }
   ],
   "source": [
    "import numpy as np\n",
    "import scipy\n",
    "from scipy import integrate\n",
    "def f(x):\n",
    "    return np.exp(-x**2)\n",
    "\n",
    "xn= np.inf\n",
    "x0= -np.inf\n",
    "n = 6\n",
    "\n",
    "Ie= integrate.quad(lambda x: np.exp(-x**2),-np.inf, np.inf)\n",
    "print (Ie)\n",
    "Ie = Ie[0]**2\n",
    "print (\"Squared Value\", Ie)"
   ]
  },
  {
   "cell_type": "markdown",
   "metadata": {},
   "source": [
    "# Question\n",
    "If you square your solution, does the resulting number have any special meaning?"
   ]
  },
  {
   "cell_type": "markdown",
   "metadata": {},
   "source": [
    "The squared value is the value of pi"
   ]
  },
  {
   "cell_type": "code",
   "execution_count": null,
   "metadata": {},
   "outputs": [],
   "source": []
  },
  {
   "cell_type": "code",
   "execution_count": null,
   "metadata": {},
   "outputs": [],
   "source": []
  }
 ],
 "metadata": {
  "kernelspec": {
   "display_name": "Python 3",
   "language": "python",
   "name": "python3"
  },
  "language_info": {
   "codemirror_mode": {
    "name": "ipython",
    "version": 3
   },
   "file_extension": ".py",
   "mimetype": "text/x-python",
   "name": "python",
   "nbconvert_exporter": "python",
   "pygments_lexer": "ipython3",
   "version": "3.7.6"
  }
 },
 "nbformat": 4,
 "nbformat_minor": 4
}
